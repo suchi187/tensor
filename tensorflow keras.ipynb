{
 "cells": [
  {
   "cell_type": "code",
   "execution_count": 1,
   "id": "c0c4a5c7",
   "metadata": {},
   "outputs": [],
   "source": [
    "import pandas as pd\n",
    "import numpy as np\n",
    "import seaborn as sns\n",
    "import matplotlib.pyplot as plt\n",
    "import warnings\n",
    "%matplotlib inline\n",
    "warnings.filterwarnings('ignore')\n",
    "from keras.models import Sequential\n",
    "from keras.layers import Dense\n",
    "from sklearn import linear_model\n",
    "from sklearn.metrics import mean_squared_error, mean_absolute_error"
   ]
  },
  {
   "cell_type": "code",
   "execution_count": 2,
   "id": "0e083045",
   "metadata": {},
   "outputs": [],
   "source": [
    "from tensorflow.keras.datasets import boston_housing"
   ]
  },
  {
   "cell_type": "code",
   "execution_count": 3,
   "id": "47edf012",
   "metadata": {},
   "outputs": [],
   "source": [
    "(X_train,y_train),(X_test,y_test)=boston_housing.load_data()"
   ]
  },
  {
   "cell_type": "code",
   "execution_count": 4,
   "id": "67225b31",
   "metadata": {},
   "outputs": [],
   "source": [
    "from sklearn.preprocessing import StandardScaler\n",
    "scaler=StandardScaler()\n",
    "scaler.fit(X_train)\n",
    "X_train_scaled = scaler.transform(X_train)\n",
    "X_test_scaled = scaler.transform(X_test)"
   ]
  },
  {
   "cell_type": "code",
   "execution_count": 5,
   "id": "a2c39be8",
   "metadata": {},
   "outputs": [],
   "source": [
    "model = Sequential()\n",
    "model.add(Dense(128, input_dim=13, activation='relu'))\n",
    "model.add(Dense(64, activation='relu'))\n",
    "#Output layer\n",
    "model.add(Dense(1, activation='linear'))"
   ]
  },
  {
   "cell_type": "code",
   "execution_count": 6,
   "id": "1b2ae206",
   "metadata": {},
   "outputs": [
    {
     "name": "stdout",
     "output_type": "stream",
     "text": [
      "Model: \"sequential\"\n",
      "_________________________________________________________________\n",
      " Layer (type)                Output Shape              Param #   \n",
      "=================================================================\n",
      " dense (Dense)               (None, 128)               1792      \n",
      "                                                                 \n",
      " dense_1 (Dense)             (None, 64)                8256      \n",
      "                                                                 \n",
      " dense_2 (Dense)             (None, 1)                 65        \n",
      "                                                                 \n",
      "=================================================================\n",
      "Total params: 10,113\n",
      "Trainable params: 10,113\n",
      "Non-trainable params: 0\n",
      "_________________________________________________________________\n"
     ]
    }
   ],
   "source": [
    "model.compile(loss='mean_squared_error', optimizer='adam', metrics=['mae'])\n",
    "model.summary()"
   ]
  },
  {
   "cell_type": "code",
   "execution_count": 7,
   "id": "ec3e4fcb",
   "metadata": {},
   "outputs": [
    {
     "name": "stdout",
     "output_type": "stream",
     "text": [
      "Epoch 1/100\n",
      "11/11 [==============================] - 2s 24ms/step - loss: 580.7880 - mae: 22.2727 - val_loss: 623.4595 - val_mae: 23.2268\n",
      "Epoch 2/100\n",
      "11/11 [==============================] - 0s 4ms/step - loss: 534.4336 - mae: 21.2450 - val_loss: 576.3057 - val_mae: 22.2129\n",
      "Epoch 3/100\n",
      "11/11 [==============================] - 0s 5ms/step - loss: 483.9997 - mae: 20.0654 - val_loss: 517.0186 - val_mae: 20.8737\n",
      "Epoch 4/100\n",
      "11/11 [==============================] - 0s 5ms/step - loss: 420.5606 - mae: 18.4892 - val_loss: 437.5483 - val_mae: 18.9767\n",
      "Epoch 5/100\n",
      "11/11 [==============================] - 0s 6ms/step - loss: 336.8882 - mae: 16.2679 - val_loss: 336.4505 - val_mae: 16.2782\n",
      "Epoch 6/100\n",
      "11/11 [==============================] - 0s 6ms/step - loss: 237.6173 - mae: 13.2585 - val_loss: 227.9343 - val_mae: 12.7161\n",
      "Epoch 7/100\n",
      "11/11 [==============================] - 0s 4ms/step - loss: 146.1660 - mae: 9.9028 - val_loss: 141.9785 - val_mae: 9.2983\n",
      "Epoch 8/100\n",
      "11/11 [==============================] - 0s 3ms/step - loss: 88.6834 - mae: 7.2767 - val_loss: 92.1084 - val_mae: 7.3335\n",
      "Epoch 9/100\n",
      "11/11 [==============================] - 0s 3ms/step - loss: 65.9575 - mae: 6.1991 - val_loss: 69.8665 - val_mae: 6.3235\n",
      "Epoch 10/100\n",
      "11/11 [==============================] - 0s 3ms/step - loss: 49.7904 - mae: 5.2630 - val_loss: 54.2683 - val_mae: 5.4740\n",
      "Epoch 11/100\n",
      "11/11 [==============================] - 0s 3ms/step - loss: 38.1001 - mae: 4.5132 - val_loss: 43.3741 - val_mae: 4.8881\n",
      "Epoch 12/100\n",
      "11/11 [==============================] - 0s 3ms/step - loss: 31.2956 - mae: 4.0138 - val_loss: 36.1826 - val_mae: 4.4525\n",
      "Epoch 13/100\n",
      "11/11 [==============================] - 0s 3ms/step - loss: 27.3494 - mae: 3.6965 - val_loss: 31.1653 - val_mae: 4.1017\n",
      "Epoch 14/100\n",
      "11/11 [==============================] - 0s 3ms/step - loss: 24.2979 - mae: 3.4702 - val_loss: 28.2115 - val_mae: 3.9175\n",
      "Epoch 15/100\n",
      "11/11 [==============================] - 0s 3ms/step - loss: 22.6081 - mae: 3.3440 - val_loss: 26.4248 - val_mae: 3.7311\n",
      "Epoch 16/100\n",
      "11/11 [==============================] - 0s 3ms/step - loss: 21.3396 - mae: 3.2068 - val_loss: 24.3280 - val_mae: 3.6327\n",
      "Epoch 17/100\n",
      "11/11 [==============================] - 0s 3ms/step - loss: 19.9156 - mae: 3.0979 - val_loss: 23.3872 - val_mae: 3.5841\n",
      "Epoch 18/100\n",
      "11/11 [==============================] - 0s 3ms/step - loss: 18.8668 - mae: 3.0091 - val_loss: 22.5005 - val_mae: 3.5163\n",
      "Epoch 19/100\n",
      "11/11 [==============================] - 0s 3ms/step - loss: 18.0619 - mae: 2.9333 - val_loss: 21.6698 - val_mae: 3.4626\n",
      "Epoch 20/100\n",
      "11/11 [==============================] - 0s 4ms/step - loss: 17.3135 - mae: 2.8726 - val_loss: 20.9863 - val_mae: 3.4027\n",
      "Epoch 21/100\n",
      "11/11 [==============================] - 0s 4ms/step - loss: 16.6406 - mae: 2.7933 - val_loss: 20.1721 - val_mae: 3.3298\n",
      "Epoch 22/100\n",
      "11/11 [==============================] - 0s 4ms/step - loss: 15.9138 - mae: 2.7352 - val_loss: 19.8410 - val_mae: 3.3040\n",
      "Epoch 23/100\n",
      "11/11 [==============================] - 0s 4ms/step - loss: 15.3665 - mae: 2.6992 - val_loss: 19.2108 - val_mae: 3.2352\n",
      "Epoch 24/100\n",
      "11/11 [==============================] - 0s 4ms/step - loss: 14.8728 - mae: 2.6579 - val_loss: 18.6911 - val_mae: 3.2189\n",
      "Epoch 25/100\n",
      "11/11 [==============================] - 0s 4ms/step - loss: 14.3706 - mae: 2.6021 - val_loss: 18.1505 - val_mae: 3.2064\n",
      "Epoch 26/100\n",
      "11/11 [==============================] - 0s 4ms/step - loss: 14.0540 - mae: 2.5584 - val_loss: 17.7217 - val_mae: 3.1312\n",
      "Epoch 27/100\n",
      "11/11 [==============================] - 0s 3ms/step - loss: 13.5641 - mae: 2.5323 - val_loss: 17.5633 - val_mae: 3.0950\n",
      "Epoch 28/100\n",
      "11/11 [==============================] - 0s 3ms/step - loss: 13.2404 - mae: 2.5182 - val_loss: 17.3965 - val_mae: 3.0769\n",
      "Epoch 29/100\n",
      "11/11 [==============================] - 0s 4ms/step - loss: 13.0133 - mae: 2.4698 - val_loss: 17.1793 - val_mae: 3.0798\n",
      "Epoch 30/100\n",
      "11/11 [==============================] - 0s 4ms/step - loss: 13.6272 - mae: 2.6176 - val_loss: 19.3526 - val_mae: 3.1287\n",
      "Epoch 31/100\n",
      "11/11 [==============================] - 0s 5ms/step - loss: 12.9736 - mae: 2.6045 - val_loss: 17.2927 - val_mae: 3.0149\n",
      "Epoch 32/100\n",
      "11/11 [==============================] - 0s 5ms/step - loss: 11.9590 - mae: 2.4162 - val_loss: 16.6903 - val_mae: 3.0023\n",
      "Epoch 33/100\n",
      "11/11 [==============================] - 0s 4ms/step - loss: 11.7488 - mae: 2.3749 - val_loss: 16.1720 - val_mae: 2.9653\n",
      "Epoch 34/100\n",
      "11/11 [==============================] - 0s 3ms/step - loss: 11.4511 - mae: 2.3692 - val_loss: 16.4289 - val_mae: 2.9362\n",
      "Epoch 35/100\n",
      "11/11 [==============================] - 0s 3ms/step - loss: 11.5149 - mae: 2.4577 - val_loss: 17.2715 - val_mae: 2.9608\n",
      "Epoch 36/100\n",
      "11/11 [==============================] - 0s 3ms/step - loss: 11.3036 - mae: 2.4275 - val_loss: 16.3370 - val_mae: 2.9096\n",
      "Epoch 37/100\n",
      "11/11 [==============================] - 0s 4ms/step - loss: 10.8687 - mae: 2.3248 - val_loss: 16.1661 - val_mae: 2.9786\n",
      "Epoch 38/100\n",
      "11/11 [==============================] - 0s 4ms/step - loss: 10.9437 - mae: 2.3090 - val_loss: 16.0414 - val_mae: 2.9915\n",
      "Epoch 39/100\n",
      "11/11 [==============================] - 0s 4ms/step - loss: 10.7209 - mae: 2.2960 - val_loss: 16.0713 - val_mae: 2.8789\n",
      "Epoch 40/100\n",
      "11/11 [==============================] - 0s 4ms/step - loss: 10.4983 - mae: 2.2858 - val_loss: 15.9363 - val_mae: 2.8752\n",
      "Epoch 41/100\n",
      "11/11 [==============================] - 0s 4ms/step - loss: 10.3297 - mae: 2.2619 - val_loss: 15.7650 - val_mae: 2.8756\n",
      "Epoch 42/100\n",
      "11/11 [==============================] - 0s 4ms/step - loss: 10.2787 - mae: 2.2445 - val_loss: 15.8865 - val_mae: 2.9299\n",
      "Epoch 43/100\n",
      "11/11 [==============================] - 0s 3ms/step - loss: 10.1631 - mae: 2.2222 - val_loss: 15.5513 - val_mae: 2.8629\n",
      "Epoch 44/100\n",
      "11/11 [==============================] - 0s 3ms/step - loss: 10.0902 - mae: 2.2092 - val_loss: 15.1907 - val_mae: 2.8288\n",
      "Epoch 45/100\n",
      "11/11 [==============================] - 0s 3ms/step - loss: 10.0494 - mae: 2.2039 - val_loss: 15.7070 - val_mae: 2.8902\n",
      "Epoch 46/100\n",
      "11/11 [==============================] - 0s 3ms/step - loss: 9.8466 - mae: 2.2001 - val_loss: 15.5902 - val_mae: 2.8111\n",
      "Epoch 47/100\n",
      "11/11 [==============================] - 0s 4ms/step - loss: 9.7569 - mae: 2.1789 - val_loss: 15.6384 - val_mae: 2.8079\n",
      "Epoch 48/100\n",
      "11/11 [==============================] - 0s 5ms/step - loss: 9.8623 - mae: 2.2418 - val_loss: 18.6400 - val_mae: 2.9117\n",
      "Epoch 49/100\n",
      "11/11 [==============================] - 0s 5ms/step - loss: 9.8723 - mae: 2.2628 - val_loss: 17.6979 - val_mae: 2.8887\n",
      "Epoch 50/100\n",
      "11/11 [==============================] - 0s 4ms/step - loss: 9.7530 - mae: 2.1909 - val_loss: 16.6987 - val_mae: 2.8651\n",
      "Epoch 51/100\n",
      "11/11 [==============================] - 0s 3ms/step - loss: 9.4871 - mae: 2.1599 - val_loss: 16.8171 - val_mae: 2.9001\n",
      "Epoch 52/100\n",
      "11/11 [==============================] - 0s 3ms/step - loss: 9.4080 - mae: 2.1751 - val_loss: 17.0779 - val_mae: 2.9740\n",
      "Epoch 53/100\n",
      "11/11 [==============================] - 0s 3ms/step - loss: 9.2964 - mae: 2.1456 - val_loss: 16.2735 - val_mae: 2.8480\n",
      "Epoch 54/100\n",
      "11/11 [==============================] - 0s 3ms/step - loss: 9.2229 - mae: 2.1629 - val_loss: 16.8360 - val_mae: 2.8736\n",
      "Epoch 55/100\n",
      "11/11 [==============================] - 0s 4ms/step - loss: 9.1266 - mae: 2.1489 - val_loss: 16.6953 - val_mae: 2.9668\n",
      "Epoch 56/100\n",
      "11/11 [==============================] - 0s 4ms/step - loss: 9.0693 - mae: 2.1199 - val_loss: 16.2917 - val_mae: 2.8968\n",
      "Epoch 57/100\n",
      "11/11 [==============================] - 0s 5ms/step - loss: 9.0424 - mae: 2.0997 - val_loss: 16.0913 - val_mae: 2.8094\n",
      "Epoch 58/100\n",
      "11/11 [==============================] - 0s 5ms/step - loss: 8.9574 - mae: 2.1020 - val_loss: 15.8067 - val_mae: 2.8298\n",
      "Epoch 59/100\n",
      "11/11 [==============================] - 0s 4ms/step - loss: 8.7677 - mae: 2.0702 - val_loss: 15.7693 - val_mae: 2.8458\n",
      "Epoch 60/100\n",
      "11/11 [==============================] - 0s 3ms/step - loss: 8.7564 - mae: 2.0643 - val_loss: 15.8899 - val_mae: 2.8399\n",
      "Epoch 61/100\n",
      "11/11 [==============================] - 0s 3ms/step - loss: 8.7478 - mae: 2.0576 - val_loss: 15.7740 - val_mae: 2.8183\n",
      "Epoch 62/100\n"
     ]
    },
    {
     "name": "stdout",
     "output_type": "stream",
     "text": [
      "11/11 [==============================] - 0s 3ms/step - loss: 8.6869 - mae: 2.0601 - val_loss: 16.4199 - val_mae: 2.8755\n",
      "Epoch 63/100\n",
      "11/11 [==============================] - 0s 3ms/step - loss: 8.6840 - mae: 2.0622 - val_loss: 15.6612 - val_mae: 2.7891\n",
      "Epoch 64/100\n",
      "11/11 [==============================] - 0s 3ms/step - loss: 8.5935 - mae: 2.0266 - val_loss: 15.8651 - val_mae: 2.8677\n",
      "Epoch 65/100\n",
      "11/11 [==============================] - 0s 3ms/step - loss: 8.4599 - mae: 2.0281 - val_loss: 16.0627 - val_mae: 2.8236\n",
      "Epoch 66/100\n",
      "11/11 [==============================] - 0s 5ms/step - loss: 8.4142 - mae: 2.0492 - val_loss: 15.9675 - val_mae: 2.8171\n",
      "Epoch 67/100\n",
      "11/11 [==============================] - 0s 5ms/step - loss: 8.3132 - mae: 2.0107 - val_loss: 15.4558 - val_mae: 2.7980\n",
      "Epoch 68/100\n",
      "11/11 [==============================] - 0s 4ms/step - loss: 8.2406 - mae: 1.9990 - val_loss: 15.7723 - val_mae: 2.8160\n",
      "Epoch 69/100\n",
      "11/11 [==============================] - 0s 4ms/step - loss: 8.3394 - mae: 2.0486 - val_loss: 16.2328 - val_mae: 2.8531\n",
      "Epoch 70/100\n",
      "11/11 [==============================] - 0s 4ms/step - loss: 8.7670 - mae: 2.1024 - val_loss: 15.9641 - val_mae: 2.9091\n",
      "Epoch 71/100\n",
      "11/11 [==============================] - 0s 3ms/step - loss: 8.2719 - mae: 2.0293 - val_loss: 15.3177 - val_mae: 2.7412\n",
      "Epoch 72/100\n",
      "11/11 [==============================] - 0s 3ms/step - loss: 8.2819 - mae: 2.0118 - val_loss: 15.3267 - val_mae: 2.7816\n",
      "Epoch 73/100\n",
      "11/11 [==============================] - 0s 3ms/step - loss: 8.0250 - mae: 1.9904 - val_loss: 16.2511 - val_mae: 2.8187\n",
      "Epoch 74/100\n",
      "11/11 [==============================] - 0s 4ms/step - loss: 8.4328 - mae: 2.1021 - val_loss: 16.2043 - val_mae: 2.7965\n",
      "Epoch 75/100\n",
      "11/11 [==============================] - 0s 4ms/step - loss: 8.1372 - mae: 1.9985 - val_loss: 14.6381 - val_mae: 2.7419\n",
      "Epoch 76/100\n",
      "11/11 [==============================] - 0s 5ms/step - loss: 7.9278 - mae: 1.9677 - val_loss: 15.1612 - val_mae: 2.7339\n",
      "Epoch 77/100\n",
      "11/11 [==============================] - 0s 4ms/step - loss: 7.7992 - mae: 1.9701 - val_loss: 15.3337 - val_mae: 2.8134\n",
      "Epoch 78/100\n",
      "11/11 [==============================] - 0s 3ms/step - loss: 8.0669 - mae: 1.9718 - val_loss: 14.8654 - val_mae: 2.7890\n",
      "Epoch 79/100\n",
      "11/11 [==============================] - 0s 3ms/step - loss: 7.5923 - mae: 1.9175 - val_loss: 15.2512 - val_mae: 2.7353\n",
      "Epoch 80/100\n",
      "11/11 [==============================] - 0s 3ms/step - loss: 7.7058 - mae: 1.9888 - val_loss: 15.8463 - val_mae: 2.7532\n",
      "Epoch 81/100\n",
      "11/11 [==============================] - 0s 4ms/step - loss: 7.5462 - mae: 1.9307 - val_loss: 15.3782 - val_mae: 2.7742\n",
      "Epoch 82/100\n",
      "11/11 [==============================] - 0s 4ms/step - loss: 7.4704 - mae: 1.8985 - val_loss: 15.0947 - val_mae: 2.7193\n",
      "Epoch 83/100\n",
      "11/11 [==============================] - 0s 4ms/step - loss: 7.4561 - mae: 1.8997 - val_loss: 15.0607 - val_mae: 2.7000\n",
      "Epoch 84/100\n",
      "11/11 [==============================] - 0s 4ms/step - loss: 7.4916 - mae: 1.9199 - val_loss: 15.1509 - val_mae: 2.7159\n",
      "Epoch 85/100\n",
      "11/11 [==============================] - 0s 4ms/step - loss: 7.3721 - mae: 1.8922 - val_loss: 14.7879 - val_mae: 2.7055\n",
      "Epoch 86/100\n",
      "11/11 [==============================] - 0s 3ms/step - loss: 7.4594 - mae: 1.8829 - val_loss: 14.9748 - val_mae: 2.7268\n",
      "Epoch 87/100\n",
      "11/11 [==============================] - 0s 3ms/step - loss: 7.2332 - mae: 1.8678 - val_loss: 15.0106 - val_mae: 2.7148\n",
      "Epoch 88/100\n",
      "11/11 [==============================] - 0s 4ms/step - loss: 7.2218 - mae: 1.8818 - val_loss: 15.1625 - val_mae: 2.7124\n",
      "Epoch 89/100\n",
      "11/11 [==============================] - 0s 5ms/step - loss: 7.1237 - mae: 1.8563 - val_loss: 15.1636 - val_mae: 2.7321\n",
      "Epoch 90/100\n",
      "11/11 [==============================] - 0s 5ms/step - loss: 7.0625 - mae: 1.8344 - val_loss: 15.2608 - val_mae: 2.7342\n",
      "Epoch 91/100\n",
      "11/11 [==============================] - 0s 4ms/step - loss: 7.1070 - mae: 1.8691 - val_loss: 15.2240 - val_mae: 2.7185\n",
      "Epoch 92/100\n",
      "11/11 [==============================] - 0s 4ms/step - loss: 6.9611 - mae: 1.8459 - val_loss: 14.6033 - val_mae: 2.6925\n",
      "Epoch 93/100\n",
      "11/11 [==============================] - 0s 3ms/step - loss: 7.1711 - mae: 1.8496 - val_loss: 13.8992 - val_mae: 2.6780\n",
      "Epoch 94/100\n",
      "11/11 [==============================] - 0s 3ms/step - loss: 7.0050 - mae: 1.8237 - val_loss: 14.2747 - val_mae: 2.6606\n",
      "Epoch 95/100\n",
      "11/11 [==============================] - 0s 3ms/step - loss: 6.8479 - mae: 1.7974 - val_loss: 14.1727 - val_mae: 2.6355\n",
      "Epoch 96/100\n",
      "11/11 [==============================] - 0s 3ms/step - loss: 6.9484 - mae: 1.8214 - val_loss: 14.3425 - val_mae: 2.6134\n",
      "Epoch 97/100\n",
      "11/11 [==============================] - 0s 3ms/step - loss: 6.8172 - mae: 1.7862 - val_loss: 14.4340 - val_mae: 2.6616\n",
      "Epoch 98/100\n",
      "11/11 [==============================] - 0s 3ms/step - loss: 6.8924 - mae: 1.8100 - val_loss: 14.7454 - val_mae: 2.6364\n",
      "Epoch 99/100\n",
      "11/11 [==============================] - 0s 3ms/step - loss: 6.7543 - mae: 1.7927 - val_loss: 14.6275 - val_mae: 2.6223\n",
      "Epoch 100/100\n",
      "11/11 [==============================] - 0s 3ms/step - loss: 6.6585 - mae: 1.7671 - val_loss: 14.5457 - val_mae: 2.6472\n"
     ]
    }
   ],
   "source": [
    "history = model.fit(X_train_scaled, y_train, validation_split=0.2, epochs =100)"
   ]
  },
  {
   "cell_type": "code",
   "execution_count": 8,
   "id": "55111d91",
   "metadata": {},
   "outputs": [
    {
     "data": {
      "image/png": "[encoded data removed]",
      "text/plain": [
       "<Figure size 432x288 with 1 Axes>"
      ]
     },
     "metadata": {
      "needs_background": "light"
     },
     "output_type": "display_data"
    }
   ],
   "source": [
    "from matplotlib import pyplot as plt\n",
    "#plot the training and validation accuracy and loss at each epoch\n",
    "loss = history.history['loss']\n",
    "val_loss = history.history['val_loss']\n",
    "epochs = range(1, len(loss) + 1)\n",
    "plt.plot(epochs, loss, 'y', label='Training loss')\n",
    "plt.plot(epochs, val_loss, 'r', label='Validation loss')\n",
    "plt.title('Training and validation loss')\n",
    "plt.xlabel('Epochs')\n",
    "plt.ylabel('Loss')\n",
    "plt.legend()\n",
    "plt.show()\n"
   ]
  },
  {
   "cell_type": "code",
   "execution_count": 9,
   "id": "a7b7bf33",
   "metadata": {},
   "outputs": [
    {
     "name": "stdout",
     "output_type": "stream",
     "text": [
      "4/4 [==============================] - 0s 2ms/step - loss: 23.9234 - mae: 3.0865\n",
      "Mean squared error from neural net:  23.923383712768555\n",
      "Mean absolute error from neural net:  3.086545467376709\n"
     ]
    }
   ],
   "source": [
    "mse_neural, mae_neural = model.evaluate(X_test_scaled, y_test)\n",
    "print('Mean squared error from neural net: ', mse_neural)\n",
    "print('Mean absolute error from neural net: ', mae_neural)"
   ]
  },
  {
   "cell_type": "code",
   "execution_count": 10,
   "id": "4ebaa3bb",
   "metadata": {},
   "outputs": [
    {
     "name": "stdout",
     "output_type": "stream",
     "text": [
      "1/1 [==============================] - 0s 120ms/step\n",
      "Predicted values are:  [[ 8.399009]\n",
      " [18.548649]\n",
      " [20.989925]\n",
      " [33.603176]\n",
      " [24.98539 ]]\n",
      "Real values are:  [ 7.2 18.8 19.  27.  22.2]\n"
     ]
    }
   ],
   "source": [
    "predictions = model.predict(X_test_scaled[:5])\n",
    "print(\"Predicted values are: \", predictions)\n",
    "print(\"Real values are: \", y_test[:5])"
   ]
  },
  {
   "cell_type": "code",
   "execution_count": 11,
   "id": "0ed8e652",
   "metadata": {},
   "outputs": [
    {
     "name": "stdout",
     "output_type": "stream",
     "text": [
      "Mean squared error from linear regression:  23.195599256422977\n",
      "Mean absolute error from linear regression:  3.4641858124067166\n"
     ]
    }
   ],
   "source": [
    "lr_model = linear_model.LinearRegression()\n",
    "lr_model.fit(X_train_scaled, y_train)\n",
    "y_pred_lr = lr_model.predict(X_test_scaled)\n",
    "mse_lr = mean_squared_error(y_test, y_pred_lr)\n",
    "mae_lr = mean_absolute_error(y_test, y_pred_lr)\n",
    "print('Mean squared error from linear regression: ', mse_lr)\n",
    "print('Mean absolute error from linear regression: ', mae_lr)"
   ]
  },
  {
   "cell_type": "code",
   "execution_count": null,
   "id": "dabd4fcf",
   "metadata": {},
   "outputs": [],
   "source": []
  },
  {
   "cell_type": "code",
   "execution_count": null,
   "id": "93892752",
   "metadata": {},
   "outputs": [],
   "source": []
  },
  {
   "cell_type": "code",
   "execution_count": null,
   "id": "429292c3",
   "metadata": {},
   "outputs": [],
   "source": []
  },
  {
   "cell_type": "code",
   "execution_count": null,
   "id": "6df3c3fc",
   "metadata": {},
   "outputs": [],
   "source": []
  }
 ],
 "metadata": {
  "kernelspec": {
   "display_name": "Python 3 (ipykernel)",
   "language": "python",
   "name": "python3"
  },
  "language_info": {
   "codemirror_mode": {
    "name": "ipython",
    "version": 3
   },
   "file_extension": ".py",
   "mimetype": "text/x-python",
   "name": "python",
   "nbconvert_exporter": "python",
   "pygments_lexer": "ipython3",
   "version": "3.9.12"
  }
 },
 "nbformat": 4,
 "nbformat_minor": 5
}
